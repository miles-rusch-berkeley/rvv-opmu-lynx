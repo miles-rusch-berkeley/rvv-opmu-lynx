{
 "cells": [
  {
   "cell_type": "code",
   "execution_count": 19,
   "metadata": {},
   "outputs": [],
   "source": [
    "def mrvv_hex(rd, rs1, rs2=0, func3='v2m', ml=256/64):\n",
    "    # if (func3 == 'm2v'):\n",
    "    #     rs1 = rs1\n",
    "    # else:\n",
    "    #     rd = int(rd*ml)\n",
    "    func3l = ['v2m', 'm2v', 'opacc']\n",
    "    func3i = func3l.index(func3)\n",
    "    opcode = int('0B', 16)\n",
    "    # Combine the arguments into a 32-bit instruction\n",
    "    instruction = (rs2 << 20) | (rs1 << 15) | (func3i << 12) | (rd << 7) | (opcode) | 0\n",
    "\n",
    "    # Convert the instruction to a hex string\n",
    "    hex_string = 'asm volatile(\".4byte 0x' + hex(instruction)[2:].zfill(8) + '\");'\n",
    "\n",
    "    return hex_string"
   ]
  },
  {
   "cell_type": "code",
   "execution_count": 27,
   "metadata": {},
   "outputs": [
    {
     "name": "stdout",
     "output_type": "stream",
     "text": [
      "// vmv.v.m m0 v16\n",
      "asm volatile(\".4byte 0x0008000b\");\n",
      "// vmv.v.m m1 v17\n",
      "asm volatile(\".4byte 0x0008808b\");\n",
      "// vmv.v.m m2 v18\n",
      "asm volatile(\".4byte 0x0009010b\");\n",
      "// vmv.v.m m3 v19\n",
      "asm volatile(\".4byte 0x0009818b\");\n"
     ]
    }
   ],
   "source": [
    "# clear MRF\n",
    "print('// vmv.v.m m0 v16')\n",
    "print(mrvv_hex(0, 16, func3='v2m'))\n",
    "print('// vmv.v.m m1 v17')\n",
    "print(mrvv_hex(1, 17, func3='v2m'))\n",
    "print('// vmv.v.m m2 v18')\n",
    "print(mrvv_hex(2, 18, func3='v2m'))\n",
    "print('// vmv.v.m m3 v19')\n",
    "print(mrvv_hex(3, 19, func3='v2m'))"
   ]
  },
  {
   "cell_type": "code",
   "execution_count": 8,
   "metadata": {},
   "outputs": [
    {
     "name": "stdout",
     "output_type": "stream",
     "text": [
      "vle64.v v8, (c0)\n",
      "// vmv.m.v m0, v8\n",
      "asm volatile(\".4byte 0x0004000b\");\n",
      "// vmv.m.v m0, v9\n",
      "asm volatile(\".4byte 0x0004800b\");\n",
      "// vmv.m.v m0, v10\n",
      "asm volatile(\".4byte 0x0005000b\");\n",
      "// vmv.m.v m0, v11\n",
      "asm volatile(\".4byte 0x0005800b\");\n"
     ]
    }
   ],
   "source": [
    "# load c=0\n",
    "print('vle64.v v8, (c0)')\n",
    "print('// vmv.m.v m0, v8')\n",
    "print(mrvv_hex(0, 8, func3='v2m'))\n",
    "print('// vmv.m.v m1, v9')\n",
    "print(mrvv_hex(1, 9, func3='v2m'))\n",
    "print('// vmv.m.v m2, v10')\n",
    "print(mrvv_hex(2, 10, func3='v2m'))\n",
    "print('// vmv.m.v m3, v11')\n",
    "print(mrvv_hex(3, 11, func3='v2m'))"
   ]
  },
  {
   "cell_type": "code",
   "execution_count": 33,
   "metadata": {},
   "outputs": [
    {
     "name": "stdout",
     "output_type": "stream",
     "text": [
      "// opacc.v.m m0 v0 v8\n",
      "asm volatile(\".4byte 0x0080200b\");\n",
      "// opacc.v.m m0 v1 v9\n",
      "asm volatile(\".4byte 0x0090a00b\");\n",
      "// opacc.v.m m0 v2 v10\n",
      "asm volatile(\".4byte 0x00a1200b\");\n",
      "// opacc.v.m m0 v3 v11\n",
      "asm volatile(\".4byte 0x00b1a00b\");\n",
      "// opacc.v.m m0 v4 v12\n",
      "asm volatile(\".4byte 0x00c2200b\");\n",
      "// opacc.v.m m0 v5 v13\n",
      "asm volatile(\".4byte 0x00d2a00b\");\n",
      "// opacc.v.m m0 v6 v14\n",
      "asm volatile(\".4byte 0x00e3200b\");\n",
      "// opacc.v.m m0 v7 v15\n",
      "asm volatile(\".4byte 0x00f3a00b\");\n"
     ]
    }
   ],
   "source": [
    "print('// opacc.v.m m0 v0 v8')\n",
    "print(mrvv_hex(0, 0, 8, func3='opacc'))\n",
    "print('// opacc.v.m m0 v1 v9')\n",
    "print(mrvv_hex(0, 1, 9, func3='opacc'))\n",
    "print('// opacc.v.m m0 v2 v10')\n",
    "print(mrvv_hex(0, 2, 10, func3='opacc'))\n",
    "print('// opacc.v.m m0 v3 v11')\n",
    "print(mrvv_hex(0, 3, 11, func3='opacc'))\n",
    "print('// opacc.v.m m0 v4 v12')\n",
    "print(mrvv_hex(0, 4, 12, func3='opacc'))\n",
    "print('// opacc.v.m m0 v5 v13')\n",
    "print(mrvv_hex(0, 5, 13, func3='opacc'))\n",
    "print('// opacc.v.m m0 v6 v14')\n",
    "print(mrvv_hex(0, 6, 14, func3='opacc'))\n",
    "print('// opacc.v.m m0 v7 v15')\n",
    "print(mrvv_hex(0, 7, 15, func3='opacc'))"
   ]
  },
  {
   "cell_type": "code",
   "execution_count": 31,
   "metadata": {},
   "outputs": [
    {
     "name": "stdout",
     "output_type": "stream",
     "text": [
      "// mmv.v.m v16 m0\n",
      "asm volatile(\".4byte 0x0000180b\");\n",
      "// mmv.v.m v17 m1\n",
      "asm volatile(\".4byte 0x0000988b\");\n",
      "// mmv.v.m v18 m2\n",
      "asm volatile(\".4byte 0x0001190b\");\n",
      "// mmv.v.m v19 m3\n",
      "asm volatile(\".4byte 0x0001998b\");\n"
     ]
    }
   ],
   "source": [
    "#move back to VRF\n",
    "print('// mmv.v.m v16 m0')\n",
    "print(mrvv_hex(16, 0, func3='m2v'))\n",
    "print('// mmv.v.m v17 m1')\n",
    "print(mrvv_hex(17, 1, func3='m2v'))\n",
    "print('// mmv.v.m v18 m2')\n",
    "print(mrvv_hex(18, 2, func3='m2v'))\n",
    "print('// mmv.v.m v19 m3')\n",
    "print(mrvv_hex(19, 3, func3='m2v'))"
   ]
  },
  {
   "cell_type": "code",
   "execution_count": 21,
   "metadata": {},
   "outputs": [
    {
     "name": "stdout",
     "output_type": "stream",
     "text": [
      "asm volatile(\".4byte 0x0000000b\");\n",
      "asm volatile(\".4byte 0x0000200b\");\n",
      "asm volatile(\".4byte 0x0000100b\");\n"
     ]
    }
   ],
   "source": [
    "# for c sprintf\n",
    "print(mrvv_hex(0, 0, func3='v2m'))\n",
    "print(mrvv_hex(0, 0, func3='opacc'))\n",
    "print(mrvv_hex(0, 0, func3='m2v'))"
   ]
  }
 ],
 "metadata": {
  "kernelspec": {
   "display_name": "base",
   "language": "python",
   "name": "python3"
  },
  "language_info": {
   "codemirror_mode": {
    "name": "ipython",
    "version": 3
   },
   "file_extension": ".py",
   "mimetype": "text/x-python",
   "name": "python",
   "nbconvert_exporter": "python",
   "pygments_lexer": "ipython3",
   "version": "3.12.3"
  }
 },
 "nbformat": 4,
 "nbformat_minor": 2
}
